{
 "cells": [
  {
   "cell_type": "markdown",
   "metadata": {},
   "source": [
    "***\n",
    "<h1 align=\"center\">Exercise 06</h1>\n",
    " \n",
    "***\n",
    "## While Loop\n",
    "## Exercise 6.1\n",
    "isilah bagian rumpang berikut. xx diganti tanggal lahir dan yy diganti menjadi bulan lahir. tandanya menyesuaikan yang lebih besar."
   ]
  },
  {
   "cell_type": "code",
   "execution_count": 1,
   "metadata": {},
   "outputs": [
    {
     "name": "stdout",
     "output_type": "stream",
     "text": [
      "man jadda wa jadda\n",
      "man jadda wa jadda\n",
      "man jadda wa jadda\n",
      "man jadda wa jadda\n",
      "man jadda wa jadda\n",
      "man jadda wa jadda\n",
      "man jadda wa jadda\n",
      "man jadda wa jadda\n",
      "man jadda wa jadda\n"
     ]
    }
   ],
   "source": [
    "#menentukan banyak pengulangan\n",
    "n = 11\n",
    "\n",
    "#melakukan pengulangan\n",
    "i = 3\n",
    "\n",
    "while i <= n :\n",
    "    print (\"man jadda wa jadda\")\n",
    "    #diisi motto kalian\n",
    "    i = i + 1 # sesuaikan dengan atas agar fungsi perulangan dapat berhenti\n"
   ]
  },
  {
   "cell_type": "markdown",
   "metadata": {},
   "source": [
    "## Exercise 6.2\n",
    "\n",
    "Buatlah code seperti yang dicontohkan pada modul agar user dapat menginputkan sendiri jumlah n yang diinginkan"
   ]
  },
  {
   "cell_type": "code",
   "execution_count": 2,
   "metadata": {},
   "outputs": [
    {
     "name": "stdout",
     "output_type": "stream",
     "text": [
      "1\n",
      "2\n",
      "3\n",
      "4\n",
      "5\n",
      "6\n",
      "7\n",
      "8\n",
      "9\n",
      "10\n",
      "11\n"
     ]
    }
   ],
   "source": [
    "#Kerjakan disini\n",
    "#menentukan banyak pengulangan\n",
    "n = int(input(\"Masukkan nilai n: \"))\n",
    "\n",
    "#melakukan pengulangan\n",
    "i = 1\n",
    "\n",
    "while i <= n:\n",
    "    print(i)\n",
    "    i = i + 1\n"
   ]
  },
  {
   "cell_type": "markdown",
   "metadata": {},
   "source": [
    "## Excercise 6.3\n",
    "\n",
    "isilah xx, yy, dan tanda rumpang seperti pada exercise 6.1\n"
   ]
  },
  {
   "cell_type": "code",
   "execution_count": 3,
   "metadata": {},
   "outputs": [
    {
     "name": "stdout",
     "output_type": "stream",
     "text": [
      "Baris ke-11 : Naruto\n",
      "Baris ke-10 : Naruto\n",
      "Baris ke-9 : Naruto\n",
      "Baris ke-8 : Naruto\n",
      "Baris ke-7 : Naruto\n",
      "Baris ke-6 : Naruto\n",
      "Baris ke-5 : Naruto\n",
      "Baris ke-4 : Naruto\n",
      "Baris ke-3 : Naruto\n"
     ]
    }
   ],
   "source": [
    "#melakukan pengulangan\n",
    "i = 11\n",
    "\n",
    "while i >= 3 :\n",
    "    print (\"Baris ke-%d : Naruto\"%i)\n",
    "    #isi titik-titik dengan judul film favorit kalian\n",
    "    i = i - 1 "
   ]
  },
  {
   "cell_type": "markdown",
   "metadata": {},
   "source": [
    "## FOR LOOP\n",
    "\n",
    "## Exercise 6.4\n",
    "\n",
    "munculkan 3 dari 7 elemen yang berada di dalam list1 dan list2\n"
   ]
  },
  {
   "cell_type": "code",
   "execution_count": 4,
   "metadata": {},
   "outputs": [
    {
     "name": "stdout",
     "output_type": "stream",
     "text": [
      "4 Siomay , New York\n",
      "5 Soto , Seoul\n",
      "6 Rawon , Amsterdam\n"
     ]
    }
   ],
   "source": [
    "list1 = [\"Nasi goreng\", \"Ayam goreng\", \"Mie goreng\", \"Siomay\", \"Soto\", \"Rawon\", \"Bakso\"] #masukkan 7 list makanan favorit kalian\n",
    "list2 = [\"Solo\", \"Tokyo\", \"London\", \"New York\", \"Seoul\", \"Amsterdam\", \"Sragen\"] #masukkan 7 list kota favorit kalian\n",
    "\n",
    "for i in range(3,6) :\n",
    "    print(i+1, list1[i] ,\",\", list2[i])"
   ]
  },
  {
   "cell_type": "markdown",
   "metadata": {},
   "source": [
    "## Perulangan Bersarang\n",
    "\n",
    "## Exercise 6.5"
   ]
  },
  {
   "cell_type": "code",
   "execution_count": 7,
   "metadata": {},
   "outputs": [
    {
     "name": "stdout",
     "output_type": "stream",
     "text": [
      "121 \n",
      "110 100 \n",
      "99 90 81 \n",
      "88 80 72 64 \n",
      "77 70 63 56 49 \n",
      "66 60 54 48 42 36 \n",
      "55 50 45 40 35 30 25 \n",
      "44 40 36 32 28 24 20 16 \n",
      "33 30 27 24 21 18 15 12 9 \n"
     ]
    }
   ],
   "source": [
    "i = 11\n",
    "while i >= 3:\n",
    "    j = 11\n",
    "    while j>=i:\n",
    "        print(\"%d \" % (i*j), end = '')\n",
    "        j = j - 1\n",
    "    print()\n",
    "    i-=1"
   ]
  },
  {
   "cell_type": "markdown",
   "metadata": {},
   "source": [
    "## Pernyataan Loncat\n",
    "\n",
    "## Exercise 6.\n",
    "\n",
    "Buatlah fungsi berikut agar muncul angka hingga berhenti sesuai dengan nilai qq\n",
    "qq = angka favorit kalian\n",
    "pp>qq"
   ]
  },
  {
   "cell_type": "code",
   "execution_count": 8,
   "metadata": {},
   "outputs": [
    {
     "name": "stdout",
     "output_type": "stream",
     "text": [
      "0123456789101112131415161718192021222324252627282930313233343536373839"
     ]
    }
   ],
   "source": [
    "for i in range(40):\n",
    "    print(i,end='')\n",
    "    if i == 30:\n",
    "        ___"
   ]
  },
  {
   "cell_type": "markdown",
   "metadata": {},
   "source": [
    "***\n",
    "<h1 align=\"center\">WELL DONE</h1>\n",
    " \n",
    "***"
   ]
  }
 ],
 "metadata": {
  "interpreter": {
   "hash": "cd08f94adcf3cbae37fe85286256f4c2a10455ca9094fd053e9f3d3f09647223"
  },
  "kernelspec": {
   "display_name": "Python 3.9.7 64-bit",
   "language": "python",
   "name": "python3"
  },
  "language_info": {
   "codemirror_mode": {
    "name": "ipython",
    "version": 3
   },
   "file_extension": ".py",
   "mimetype": "text/x-python",
   "name": "python",
   "nbconvert_exporter": "python",
   "pygments_lexer": "ipython3",
   "version": "3.10.2"
  },
  "orig_nbformat": 4
 },
 "nbformat": 4,
 "nbformat_minor": 2
}
