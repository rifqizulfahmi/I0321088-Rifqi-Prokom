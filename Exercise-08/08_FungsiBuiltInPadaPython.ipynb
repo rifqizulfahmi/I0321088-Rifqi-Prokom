{
 "cells": [
  {
   "cell_type": "markdown",
   "metadata": {},
   "source": [
    "# Exercise 8\n",
    "1. Fungsi is_sentence_case merupakan fungsi yang mengembalikan nilai boolean True jika huruf pertama pada input string berupa huruf kapital atau mengembalikan nilai boolean False jika huruf pertama pada input string bukan berupa huruf kapital. Salinlah kode dibawah ini dan lengkapi kode yang rumpang sehingga menghasilkan input yang diinginkan\n",
    "![](./images/08_FungsiFungsiString01.png)"
   ]
  },
  {
   "cell_type": "code",
   "execution_count": null,
   "metadata": {},
   "outputs": [],
   "source": [
    "#Kerjakan nomor 1 disini"
   ]
  },
  {
   "cell_type": "markdown",
   "metadata": {},
   "source": [
    "2. Fungsi vowel_letters_count merupakan fungsi yang mengembalikan jumlah huruf vokal pada input kalimat. Salinlah kode berikut dan lengkapi kode sehingga menghasilkan output yang diinginkan\n",
    "![](./images/08_FungsiFungsiString02.png)"
   ]
  },
  {
   "cell_type": "code",
   "execution_count": null,
   "metadata": {},
   "outputs": [],
   "source": [
    "#Kerjakan nomor 2 disini"
   ]
  },
  {
   "cell_type": "markdown",
   "metadata": {},
   "source": [
    "3. Fungsi replace_string merupakan fungsi yang berguna untuk mengganti substring lama pada input kalimat dengan substring baru namun fungsi ini hanya bekerja mengganti substring lama pada akhir kalimat. Salinlah kode berikut dan lengkapi kode yang masih rumpang sehingga menghasilkan output yang diharapkan\n",
    "![](./images/08_FungsiFungsiString03.png)"
   ]
  },
  {
   "cell_type": "code",
   "execution_count": null,
   "metadata": {},
   "outputs": [],
   "source": [
    "#Kerjakan nomor 3 disini"
   ]
  },
  {
   "cell_type": "markdown",
   "metadata": {},
   "source": [
    "4. Salinlah kode berikut dan lengkapi kode yang masih rumpang sehingga menghasilkan output yang diharapkan\n",
    "![](./images/08_FungsiFungsiString04.png)"
   ]
  },
  {
   "cell_type": "code",
   "execution_count": null,
   "metadata": {},
   "outputs": [],
   "source": [
    "#Kerjakan nomor 4 disini"
   ]
  },
  {
   "cell_type": "markdown",
   "metadata": {},
   "source": [
    "5. Salinlah kode berikut\n",
    "![](./images/08_FungsiFungsiString05.png)"
   ]
  },
  {
   "cell_type": "code",
   "execution_count": null,
   "metadata": {},
   "outputs": [],
   "source": [
    "#Kerjakan nomor 5 disini"
   ]
  },
  {
   "cell_type": "markdown",
   "metadata": {},
   "source": [
    "6. Untuk meningkatkan pemahaman kalian dalam fungsi-fungsi numerik, salin kode berikut dan lengkapi kode yang masih rumpang tersebut\n",
    "![](./images/08_FungsiFungsiNumerik.png)"
   ]
  },
  {
   "cell_type": "code",
   "execution_count": null,
   "metadata": {},
   "outputs": [],
   "source": [
    "#Kerjakan nomor 6 disini"
   ]
  },
  {
   "cell_type": "markdown",
   "metadata": {},
   "source": [
    "7. Untuk meningkatkan pemahaman kalian dalam fungsi-fungsi dictionary, salin kode berikut dan lengkapi kode yang masih rumpang tersebut\n",
    "![](./images/08_FungsiFungsiDictionary.png)"
   ]
  },
  {
   "cell_type": "code",
   "execution_count": null,
   "metadata": {},
   "outputs": [],
   "source": [
    "#Kerjakan nomor 7 disini"
   ]
  },
  {
   "cell_type": "markdown",
   "metadata": {},
   "source": [
    "8. Untuk meningkatkan pemahaman kalian dalam fungsi-fungsi list, salin kode berikut dan lengkapi kode yang masih rumpang tersebut\n",
    "![](./images/08_FungsiFungsiList01.png)\n",
    "![](./images/08_FungsiFungsiList02.png)"
   ]
  },
  {
   "cell_type": "code",
   "execution_count": null,
   "metadata": {},
   "outputs": [],
   "source": [
    "#Kerjakan nomor 8 disini"
   ]
  },
  {
   "cell_type": "markdown",
   "metadata": {},
   "source": [
    "### Cara Pengumpulan\n",
    "\n",
    "1. Buka *New Terminal*\n",
    "2. Pastikan *path* Terminal adalah folder repositori kalian (NIM-Nama-Prokom).\n",
    "3. Tambahkan file yang akan ditrack dengan `git add <nama file>`. Nama file bisa diubah . (titik) yang artinya semua file dalam folder akan ditrack.\n",
    "4. Lakukan commit perubahan dengan `git commit -m <deskripsi>`.\n",
    "5. Lakukan push dengan `git push -u origin <nama branch>`. Nama branch dapat diketahui dengan `git branch`.\n",
    "6. Pastikan Exercise-08 telah terupload dan dapat diakses di repositori dengan mengaksesnya di browser."
   ]
  },
  {
   "cell_type": "markdown",
   "metadata": {},
   "source": [
    "***\n",
    "<h1 align=\"center\">Well Done!!!</h1> \n",
    "\n",
    "***"
   ]
  }
 ],
 "metadata": {
  "interpreter": {
   "hash": "ac59ebe37160ed0dfa835113d9b8498d9f09ceb179beaac4002f036b9467c963"
  },
  "kernelspec": {
   "display_name": "Python 3.9.8 64-bit",
   "language": "python",
   "name": "python3"
  },
  "language_info": {
   "name": "python",
   "version": "3.9.8"
  },
  "orig_nbformat": 4
 },
 "nbformat": 4,
 "nbformat_minor": 2
}
